{
 "cells": [
  {
   "cell_type": "code",
   "execution_count": 110,
   "metadata": {},
   "outputs": [],
   "source": [
    "import pandas as pd"
   ]
  },
  {
   "cell_type": "code",
   "execution_count": 111,
   "metadata": {},
   "outputs": [
    {
     "name": "stderr",
     "output_type": "stream",
     "text": [
      "C:\\Users\\mayank\\anaconda3\\lib\\site-packages\\ipykernel_launcher.py:1: ParserWarning: Falling back to the 'python' engine because the 'c' engine does not support regex separators (separators > 1 char and different from '\\s+' are interpreted as regex); you can avoid this warning by specifying engine='python'.\n",
      "  \"\"\"Entry point for launching an IPython kernel.\n",
      "C:\\Users\\mayank\\anaconda3\\lib\\site-packages\\ipykernel_launcher.py:2: ParserWarning: Falling back to the 'python' engine because the 'c' engine does not support regex separators (separators > 1 char and different from '\\s+' are interpreted as regex); you can avoid this warning by specifying engine='python'.\n",
      "  \n",
      "C:\\Users\\mayank\\anaconda3\\lib\\site-packages\\ipykernel_launcher.py:3: ParserWarning: Falling back to the 'python' engine because the 'c' engine does not support regex separators (separators > 1 char and different from '\\s+' are interpreted as regex); you can avoid this warning by specifying engine='python'.\n",
      "  This is separate from the ipykernel package so we can avoid doing imports until\n"
     ]
    }
   ],
   "source": [
    "train = pd.read_csv(\"./imdb_yelp/yelp-2013-seg-20-20.train.ss\", sep=\"\\t\\t\", names=[\"user_id\", \"product_id\", \"rating\", \"text\"])\n",
    "dev = pd.read_csv(\"./imdb_yelp/yelp-2013-seg-20-20.dev.ss\", sep=\"\\t\\t\", names=[\"user_id\", \"product_id\", \"rating\", \"text\"])\n",
    "test = pd.read_csv(\"./imdb_yelp/yelp-2013-seg-20-20.test.ss\", sep=\"\\t\\t\", names=[\"user_id\", \"product_id\", \"rating\", \"text\"])"
   ]
  },
  {
   "cell_type": "code",
   "execution_count": 112,
   "metadata": {},
   "outputs": [],
   "source": [
    "train[\"text\"] = train[\"text\"].apply(lambda x: x.replace(\"<sssss>\", \"\"))\n",
    "dev[\"text\"] = dev[\"text\"].apply(lambda x: x.replace(\"<sssss>\", \"\"))\n",
    "test[\"text\"] = test[\"text\"].apply(lambda x: x.replace(\"<sssss>\", \"\"))"
   ]
  },
  {
   "cell_type": "code",
   "execution_count": 113,
   "metadata": {},
   "outputs": [],
   "source": [
    "train_df = pd.DataFrame({\"id\":range(train.shape[0]), \"text\":train[\"text\"], \"label\":train[\"rating\"]-1})\n",
    "dev_df = pd.DataFrame({\"id\":range(dev.shape[0]), \"text\":dev[\"text\"], \"label\":dev[\"rating\"]-1})\n",
    "test_df = pd.DataFrame({\"id\":range(test.shape[0]), \"text\":test[\"text\"], \"label\":test[\"rating\"]-1})"
   ]
  },
  {
   "cell_type": "code",
   "execution_count": 115,
   "metadata": {},
   "outputs": [],
   "source": [
    "train_df.to_csv(\"./imdb_yelp/train_no_sep.csv\", sep=\",\", index=False)\n",
    "dev_df.to_csv(\"./imdb_yelp/dev_no_sep.csv\", sep=\",\", index=False)\n",
    "test_df.to_csv(\"./imdb_yelp/test_no_sep.csv\", sep=\",\", index=False)"
   ]
  },
  {
   "cell_type": "code",
   "execution_count": 109,
   "metadata": {},
   "outputs": [],
   "source": [
    "#df.text.map(lambda x: len(x.split())).describe([0.75, 0.8, 0.9, 0.95, 0.99])\n",
    "#df[\"rating\"].value_counts()"
   ]
  }
 ],
 "metadata": {
  "kernelspec": {
   "display_name": "Python 3",
   "language": "python",
   "name": "python3"
  },
  "language_info": {
   "codemirror_mode": {
    "name": "ipython",
    "version": 3
   },
   "file_extension": ".py",
   "mimetype": "text/x-python",
   "name": "python",
   "nbconvert_exporter": "python",
   "pygments_lexer": "ipython3",
   "version": "3.7.6"
  }
 },
 "nbformat": 4,
 "nbformat_minor": 4
}
